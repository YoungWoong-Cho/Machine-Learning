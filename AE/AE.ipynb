{
 "cells": [
  {
   "cell_type": "markdown",
   "id": "brutal-falls",
   "metadata": {},
   "source": [
    "![Autoencoder](keras_denoising_autoencoder_header.png \"Autoencoder\")"
   ]
  },
  {
   "cell_type": "markdown",
   "id": "spectacular-mortality",
   "metadata": {},
   "source": [
    "\"Autoencoding\" is a data compression algorithm where the compression and decompression functions are\n",
    "<ol>\n",
    "    <li>data-specific</li>\n",
    "    <li>lossy</li>\n",
    "    <li>learned automatically from examples rather than engineered by a human</li>\n",
    "</ol>\n",
    "Additionally, in almost all contexts where the term \"autoencoder\" is used, the compression and decompression functions are implemented with <b>neural networks</b>."
   ]
  },
  {
   "cell_type": "markdown",
   "id": "hearing-donna",
   "metadata": {},
   "source": [
    "Autoencoder consists of two parts: an encoder function $h=f(x)$ and a decoder $r = g(h)$. <br>\n",
    "Because the model is forced to prioritize which aspects of the input should be copied, it often learns useful properties of the data.<br>\n",
    "It is oftentimes called <i>self-supervised learning</i> algorithm."
   ]
  },
  {
   "cell_type": "markdown",
   "id": "prime-litigation",
   "metadata": {},
   "source": [
    "The learning process is described simply as minimizing a loss function\n",
    "\\begin{equation*}\n",
    "L\\left(x, \\,g\\left(f\\left(x\\right)\\right)\\right)\n",
    "\\end{equation*}\n",
    "When the decoder is linear and $L$ is the mean squared error, an undercomplete autoencoder learns to span the same subspace as PCA."
   ]
  },
  {
   "cell_type": "markdown",
   "id": "equivalent-campbell",
   "metadata": {},
   "source": [
    "# Simple autoencoder"
   ]
  },
  {
   "cell_type": "markdown",
   "id": "through-infrared",
   "metadata": {},
   "source": [
    "## Import libraries"
   ]
  },
  {
   "cell_type": "code",
   "execution_count": 1,
   "id": "registered-vault",
   "metadata": {},
   "outputs": [],
   "source": [
    "import tensorflow as tf\n",
    "from tensorflow import keras\n",
    "\n",
    "import numpy as np\n",
    "import matplotlib.pyplot as plt"
   ]
  },
  {
   "cell_type": "markdown",
   "id": "emotional-lounge",
   "metadata": {},
   "source": [
    "## Import dataset: MNIST fashion"
   ]
  },
  {
   "cell_type": "code",
   "execution_count": 2,
   "id": "framed-belfast",
   "metadata": {
    "scrolled": false
   },
   "outputs": [
    {
     "data": {
      "image/png": "[encoded data removed]",
      "text/plain": [
       "<Figure size 1440x288 with 20 Axes>"
      ]
     },
     "metadata": {},
     "output_type": "display_data"
    }
   ],
   "source": [
    "data = keras.datasets.mnist\n",
    "(X_train, _), (X_test, _) = data.load_data()\n",
    "\n",
    "plt.figure(figsize=(20, 4))\n",
    "for i in range(20):\n",
    "    plt.subplot(2, 10, i+1)\n",
    "    plt.imshow(X_train[i], cmap=plt.cm.binary)\n",
    "    plt.xticks([]); plt.yticks([])\n",
    "    plt.grid(False)\n",
    "plt.show()"
   ]
  },
  {
   "cell_type": "markdown",
   "id": "functional-glory",
   "metadata": {},
   "source": [
    "## Preprocess the dataset"
   ]
  },
  {
   "cell_type": "code",
   "execution_count": 3,
   "id": "fallen-coating",
   "metadata": {},
   "outputs": [],
   "source": [
    "X_train = X_train.astype('float32') / 255.\n",
    "X_test = X_test.astype('float32') / 255.\n",
    "X_train = X_train.reshape((len(X_train), np.prod(X_train.shape[1:])))\n",
    "X_test = X_test.reshape((len(X_test), np.prod(X_test.shape[1:])))"
   ]
  },
  {
   "cell_type": "markdown",
   "id": "fifth-prairie",
   "metadata": {},
   "source": [
    "## Create model"
   ]
  },
  {
   "cell_type": "code",
   "execution_count": 4,
   "id": "optimum-oxford",
   "metadata": {
    "scrolled": true
   },
   "outputs": [
    {
     "name": "stdout",
     "output_type": "stream",
     "text": [
      "Model: \"functional_1\"\n",
      "_________________________________________________________________\n",
      "Layer (type)                 Output Shape              Param #   \n",
      "=================================================================\n",
      "input_1 (InputLayer)         [(None, 784)]             0         \n",
      "_________________________________________________________________\n",
      "dense (Dense)                (None, 32)                25120     \n",
      "_________________________________________________________________\n",
      "dense_1 (Dense)              (None, 784)               25872     \n",
      "=================================================================\n",
      "Total params: 50,992\n",
      "Trainable params: 50,992\n",
      "Non-trainable params: 0\n",
      "_________________________________________________________________\n",
      "Model: \"functional_3\"\n",
      "_________________________________________________________________\n",
      "Layer (type)                 Output Shape              Param #   \n",
      "=================================================================\n",
      "input_1 (InputLayer)         [(None, 784)]             0         \n",
      "_________________________________________________________________\n",
      "dense (Dense)                (None, 32)                25120     \n",
      "=================================================================\n",
      "Total params: 25,120\n",
      "Trainable params: 25,120\n",
      "Non-trainable params: 0\n",
      "_________________________________________________________________\n",
      "\n",
      "\n",
      "Model: \"functional_5\"\n",
      "_________________________________________________________________\n",
      "Layer (type)                 Output Shape              Param #   \n",
      "=================================================================\n",
      "input_2 (InputLayer)         [(None, 32)]              0         \n",
      "_________________________________________________________________\n",
      "dense_1 (Dense)              (None, 784)               25872     \n",
      "=================================================================\n",
      "Total params: 25,872\n",
      "Trainable params: 25,872\n",
      "Non-trainable params: 0\n",
      "_________________________________________________________________\n",
      "\n",
      "\n"
     ]
    }
   ],
   "source": [
    "# Create layers\n",
    "inputLayer = keras.Input(shape=(784,))\n",
    "encodedLayer = keras.layers.Dense(32, activation='relu')(inputLayer)\n",
    "decodedLayer = keras.layers.Dense(784, activation='sigmoid')(encodedLayer)\n",
    "\n",
    "# Create models\n",
    "# 1. encoder: a neural network from the input data to the latent space\n",
    "# 2. decoder: a neural network from the latent space to the reconstructed output\n",
    "# 3. model: a fully connected autoencoder\n",
    "model = keras.Model(inputLayer, decodedLayer)\n",
    "model.compile(optimizer='adam', loss='binary_crossentropy')\n",
    "model.summary()\n",
    "\n",
    "encoder = keras.Model(inputLayer, encodedLayer)\n",
    "encoder.summary(); print('\\n')\n",
    "\n",
    "encoded_input = keras.Input(shape=(32,)) # An input to the decoder model\n",
    "decoded_output = model.layers[-1](encoded_input) # An output to the decoder model\n",
    "decoder = keras.Model(encoded_input, decoded_output)\n",
    "decoder.summary(); print('\\n')"
   ]
  },
  {
   "cell_type": "markdown",
   "id": "revolutionary-calculator",
   "metadata": {},
   "source": [
    "## Train model"
   ]
  },
  {
   "cell_type": "code",
   "execution_count": 5,
   "id": "pending-triangle",
   "metadata": {
    "scrolled": true
   },
   "outputs": [
    {
     "name": "stdout",
     "output_type": "stream",
     "text": [
      "Epoch 1/50\n",
      "235/235 [==============================] - 2s 8ms/step - loss: 0.2727 - val_loss: 0.1857\n",
      "Epoch 2/50\n",
      "235/235 [==============================] - 2s 7ms/step - loss: 0.1679 - val_loss: 0.1515\n",
      "Epoch 3/50\n",
      "235/235 [==============================] - 1s 6ms/step - loss: 0.1430 - val_loss: 0.1329\n",
      "Epoch 4/50\n",
      "235/235 [==============================] - 1s 6ms/step - loss: 0.1279 - val_loss: 0.1207\n",
      "Epoch 5/50\n",
      "235/235 [==============================] - 1s 6ms/step - loss: 0.1179 - val_loss: 0.1128\n",
      "Epoch 6/50\n",
      "235/235 [==============================] - 2s 7ms/step - loss: 0.1112 - val_loss: 0.1071\n",
      "Epoch 7/50\n",
      "235/235 [==============================] - 2s 6ms/step - loss: 0.1063 - val_loss: 0.1029\n",
      "Epoch 8/50\n",
      "235/235 [==============================] - 2s 7ms/step - loss: 0.1026 - val_loss: 0.0997\n",
      "Epoch 9/50\n",
      "235/235 [==============================] - 2s 7ms/step - loss: 0.0998 - val_loss: 0.0974\n",
      "Epoch 10/50\n",
      "235/235 [==============================] - 2s 7ms/step - loss: 0.0979 - val_loss: 0.0958\n",
      "Epoch 11/50\n",
      "235/235 [==============================] - 2s 7ms/step - loss: 0.0966 - val_loss: 0.0947\n",
      "Epoch 12/50\n",
      "235/235 [==============================] - 2s 7ms/step - loss: 0.0957 - val_loss: 0.0941\n",
      "Epoch 13/50\n",
      "235/235 [==============================] - 2s 7ms/step - loss: 0.0951 - val_loss: 0.0936\n",
      "Epoch 14/50\n",
      "235/235 [==============================] - 2s 7ms/step - loss: 0.0947 - val_loss: 0.0933\n",
      "Epoch 15/50\n",
      "235/235 [==============================] - 2s 7ms/step - loss: 0.0944 - val_loss: 0.0930\n",
      "Epoch 16/50\n",
      "235/235 [==============================] - 2s 7ms/step - loss: 0.0942 - val_loss: 0.0929\n",
      "Epoch 17/50\n",
      "235/235 [==============================] - 2s 7ms/step - loss: 0.0940 - val_loss: 0.0927\n",
      "Epoch 18/50\n",
      "235/235 [==============================] - 2s 7ms/step - loss: 0.0938 - val_loss: 0.0925\n",
      "Epoch 19/50\n",
      "235/235 [==============================] - 2s 7ms/step - loss: 0.0937 - val_loss: 0.0924\n",
      "Epoch 20/50\n",
      "235/235 [==============================] - 2s 6ms/step - loss: 0.0936 - val_loss: 0.0924\n",
      "Epoch 21/50\n",
      "235/235 [==============================] - 1s 6ms/step - loss: 0.0935 - val_loss: 0.0923\n",
      "Epoch 22/50\n",
      "235/235 [==============================] - 1s 6ms/step - loss: 0.0934 - val_loss: 0.0922\n",
      "Epoch 23/50\n",
      "235/235 [==============================] - 1s 6ms/step - loss: 0.0934 - val_loss: 0.0922\n",
      "Epoch 24/50\n",
      "235/235 [==============================] - 1s 6ms/step - loss: 0.0933 - val_loss: 0.0921\n",
      "Epoch 25/50\n",
      "235/235 [==============================] - 1s 6ms/step - loss: 0.0933 - val_loss: 0.0921\n",
      "Epoch 26/50\n",
      "235/235 [==============================] - 1s 6ms/step - loss: 0.0932 - val_loss: 0.0920\n",
      "Epoch 27/50\n",
      "235/235 [==============================] - 1s 6ms/step - loss: 0.0932 - val_loss: 0.0920\n",
      "Epoch 28/50\n",
      "235/235 [==============================] - 1s 6ms/step - loss: 0.0931 - val_loss: 0.0920\n",
      "Epoch 29/50\n",
      "235/235 [==============================] - 2s 6ms/step - loss: 0.0931 - val_loss: 0.0920\n",
      "Epoch 30/50\n",
      "235/235 [==============================] - 1s 6ms/step - loss: 0.0931 - val_loss: 0.0919\n",
      "Epoch 31/50\n",
      "235/235 [==============================] - 1s 6ms/step - loss: 0.0931 - val_loss: 0.0919\n",
      "Epoch 32/50\n",
      "235/235 [==============================] - 1s 6ms/step - loss: 0.0930 - val_loss: 0.0919\n",
      "Epoch 33/50\n",
      "235/235 [==============================] - 1s 6ms/step - loss: 0.0930 - val_loss: 0.0919\n",
      "Epoch 34/50\n",
      "235/235 [==============================] - 2s 6ms/step - loss: 0.0930 - val_loss: 0.0918\n",
      "Epoch 35/50\n",
      "235/235 [==============================] - 2s 6ms/step - loss: 0.0930 - val_loss: 0.0918\n",
      "Epoch 36/50\n",
      "235/235 [==============================] - 1s 6ms/step - loss: 0.0929 - val_loss: 0.0919\n",
      "Epoch 37/50\n",
      "235/235 [==============================] - 2s 7ms/step - loss: 0.0929 - val_loss: 0.0918\n",
      "Epoch 38/50\n",
      "235/235 [==============================] - 2s 7ms/step - loss: 0.0929 - val_loss: 0.0918\n",
      "Epoch 39/50\n",
      "235/235 [==============================] - 1s 6ms/step - loss: 0.0929 - val_loss: 0.0918\n",
      "Epoch 40/50\n",
      "235/235 [==============================] - 1s 6ms/step - loss: 0.0929 - val_loss: 0.0917\n",
      "Epoch 41/50\n",
      "235/235 [==============================] - 2s 7ms/step - loss: 0.0929 - val_loss: 0.0918\n",
      "Epoch 42/50\n",
      "235/235 [==============================] - 1s 6ms/step - loss: 0.0929 - val_loss: 0.0918\n",
      "Epoch 43/50\n",
      "235/235 [==============================] - 1s 6ms/step - loss: 0.0928 - val_loss: 0.0918\n",
      "Epoch 44/50\n",
      "235/235 [==============================] - 1s 6ms/step - loss: 0.0928 - val_loss: 0.0918\n",
      "Epoch 45/50\n",
      "235/235 [==============================] - 2s 7ms/step - loss: 0.0928 - val_loss: 0.0917\n",
      "Epoch 46/50\n",
      "235/235 [==============================] - 2s 7ms/step - loss: 0.0928 - val_loss: 0.0917\n",
      "Epoch 47/50\n",
      "235/235 [==============================] - 2s 7ms/step - loss: 0.0928 - val_loss: 0.0917\n",
      "Epoch 48/50\n",
      "235/235 [==============================] - 2s 7ms/step - loss: 0.0928 - val_loss: 0.0918\n",
      "Epoch 49/50\n",
      "235/235 [==============================] - 2s 6ms/step - loss: 0.0928 - val_loss: 0.0916\n",
      "Epoch 50/50\n",
      "235/235 [==============================] - 2s 7ms/step - loss: 0.0928 - val_loss: 0.0917\n"
     ]
    },
    {
     "data": {
      "text/plain": [
       "<tensorflow.python.keras.callbacks.History at 0x203bc269e88>"
      ]
     },
     "execution_count": 5,
     "metadata": {},
     "output_type": "execute_result"
    }
   ],
   "source": [
    "model.fit(X_train, X_train, epochs=50, batch_size=256, shuffle=True, validation_data=(X_test, X_test))"
   ]
  },
  {
   "cell_type": "markdown",
   "id": "historic-internet",
   "metadata": {},
   "source": [
    "## Visualize the encoded/decoded images"
   ]
  },
  {
   "cell_type": "code",
   "execution_count": 6,
   "id": "injured-imaging",
   "metadata": {},
   "outputs": [],
   "source": [
    "encoded_images = encoder.predict(X_test)\n",
    "decoded_images = decoder.predict(encoded_images)"
   ]
  },
  {
   "cell_type": "code",
   "execution_count": 7,
   "id": "partial-breakdown",
   "metadata": {
    "scrolled": true
   },
   "outputs": [
    {
     "data": {
      "image/png": "[encoded data removed]",
      "text/plain": [
       "<Figure size 1440x288 with 20 Axes>"
      ]
     },
     "metadata": {},
     "output_type": "display_data"
    }
   ],
   "source": [
    "plt.figure(figsize=(20, 4))\n",
    "for i in range(10):\n",
    "    # Display original\n",
    "    plt.subplot(2, 10, i + 1)\n",
    "    plt.imshow(X_test[i].reshape(28, 28), cmap=plt.cm.binary)\n",
    "    plt.xticks([]); plt.yticks([])\n",
    "\n",
    "    # Display reconstruction\n",
    "    ax = plt.subplot(2, 10, i + 11)\n",
    "    plt.imshow(decoded_images[i].reshape(28, 28), cmap=plt.cm.binary)\n",
    "    plt.xticks([]); plt.yticks([])\n",
    "plt.show()"
   ]
  },
  {
   "cell_type": "markdown",
   "id": "removed-design",
   "metadata": {},
   "source": [
    "# Deep Autoencoder"
   ]
  },
  {
   "cell_type": "markdown",
   "id": "pleased-trade",
   "metadata": {},
   "source": [
    "## Import and preprocess dataset"
   ]
  },
  {
   "cell_type": "code",
   "execution_count": 8,
   "id": "convinced-bleeding",
   "metadata": {},
   "outputs": [],
   "source": [
    "data = keras.datasets.mnist\n",
    "(X_train, _), (X_test, _) = data.load_data()\n",
    "\n",
    "X_train = X_train.astype('float32') / 255.\n",
    "X_test = X_test.astype('float32') / 255.\n",
    "X_train = X_train.reshape((len(X_train), np.prod(X_train.shape[1:])))\n",
    "X_test = X_test.reshape((len(X_test), np.prod(X_test.shape[1:])))"
   ]
  },
  {
   "cell_type": "markdown",
   "id": "traditional-hydrogen",
   "metadata": {},
   "source": [
    "## Create model"
   ]
  },
  {
   "cell_type": "code",
   "execution_count": 9,
   "id": "civic-timothy",
   "metadata": {},
   "outputs": [
    {
     "name": "stdout",
     "output_type": "stream",
     "text": [
      "Model: \"functional_7\"\n",
      "_________________________________________________________________\n",
      "Layer (type)                 Output Shape              Param #   \n",
      "=================================================================\n",
      "input_3 (InputLayer)         [(None, 784)]             0         \n",
      "_________________________________________________________________\n",
      "dense_2 (Dense)              (None, 128)               100480    \n",
      "_________________________________________________________________\n",
      "dense_3 (Dense)              (None, 64)                8256      \n",
      "_________________________________________________________________\n",
      "dense_4 (Dense)              (None, 32)                2080      \n",
      "_________________________________________________________________\n",
      "dense_5 (Dense)              (None, 64)                2112      \n",
      "_________________________________________________________________\n",
      "dense_6 (Dense)              (None, 128)               8320      \n",
      "_________________________________________________________________\n",
      "dense_7 (Dense)              (None, 784)               101136    \n",
      "=================================================================\n",
      "Total params: 222,384\n",
      "Trainable params: 222,384\n",
      "Non-trainable params: 0\n",
      "_________________________________________________________________\n"
     ]
    }
   ],
   "source": [
    "inputLayer = keras.Input(shape=(28*28,))\n",
    "\n",
    "encodedLayer = keras.layers.Dense(128, activation='relu')(inputLayer)\n",
    "encodedLayer = keras.layers.Dense(64, activation='relu')(encodedLayer)\n",
    "encodedLayer = keras.layers.Dense(32, activation='relu')(encodedLayer)\n",
    "\n",
    "decodedLayer = keras.layers.Dense(64, activation='relu')(encodedLayer)\n",
    "decodedLayer = keras.layers.Dense(128, activation='relu')(decodedLayer)\n",
    "decodedLayer = keras.layers.Dense(28*28, activation='sigmoid')(decodedLayer)\n",
    "\n",
    "model = keras.Model(inputLayer, decodedLayer)\n",
    "model.compile(optimizer='adam', loss='binary_crossentropy')\n",
    "model.summary()"
   ]
  },
  {
   "cell_type": "code",
   "execution_count": 10,
   "id": "upper-passing",
   "metadata": {
    "scrolled": true
   },
   "outputs": [
    {
     "name": "stdout",
     "output_type": "stream",
     "text": [
      "Epoch 1/50\n",
      "235/235 [==============================] - 2s 10ms/step - loss: 0.2497 - val_loss: 0.1692\n",
      "Epoch 2/50\n",
      "235/235 [==============================] - 2s 9ms/step - loss: 0.1517 - val_loss: 0.1379\n",
      "Epoch 3/50\n",
      "235/235 [==============================] - 2s 9ms/step - loss: 0.1311 - val_loss: 0.1242\n",
      "Epoch 4/50\n",
      "235/235 [==============================] - 2s 9ms/step - loss: 0.1214 - val_loss: 0.1166\n",
      "Epoch 5/50\n",
      "235/235 [==============================] - 2s 10ms/step - loss: 0.1154 - val_loss: 0.1114\n",
      "Epoch 6/50\n",
      "235/235 [==============================] - 2s 9ms/step - loss: 0.1110 - val_loss: 0.1081\n",
      "Epoch 7/50\n",
      "235/235 [==============================] - 2s 9ms/step - loss: 0.1080 - val_loss: 0.1057\n",
      "Epoch 8/50\n",
      "235/235 [==============================] - 2s 9ms/step - loss: 0.1057 - val_loss: 0.1031\n",
      "Epoch 9/50\n",
      "235/235 [==============================] - 2s 9ms/step - loss: 0.1037 - val_loss: 0.1024\n",
      "Epoch 10/50\n",
      "235/235 [==============================] - 2s 9ms/step - loss: 0.1020 - val_loss: 0.0999\n",
      "Epoch 11/50\n",
      "235/235 [==============================] - 2s 9ms/step - loss: 0.1006 - val_loss: 0.0987\n",
      "Epoch 12/50\n",
      "235/235 [==============================] - 2s 9ms/step - loss: 0.0992 - val_loss: 0.0975\n",
      "Epoch 13/50\n",
      "235/235 [==============================] - 2s 9ms/step - loss: 0.0982 - val_loss: 0.0965\n",
      "Epoch 14/50\n",
      "235/235 [==============================] - 2s 9ms/step - loss: 0.0972 - val_loss: 0.0957\n",
      "Epoch 15/50\n",
      "235/235 [==============================] - 2s 9ms/step - loss: 0.0964 - val_loss: 0.0950\n",
      "Epoch 16/50\n",
      "235/235 [==============================] - 2s 9ms/step - loss: 0.0956 - val_loss: 0.0943\n",
      "Epoch 17/50\n",
      "235/235 [==============================] - 2s 9ms/step - loss: 0.0949 - val_loss: 0.0939\n",
      "Epoch 18/50\n",
      "235/235 [==============================] - 2s 9ms/step - loss: 0.0942 - val_loss: 0.0932\n",
      "Epoch 19/50\n",
      "235/235 [==============================] - 2s 9ms/step - loss: 0.0936 - val_loss: 0.0930\n",
      "Epoch 20/50\n",
      "235/235 [==============================] - 2s 9ms/step - loss: 0.0930 - val_loss: 0.0922\n",
      "Epoch 21/50\n",
      "235/235 [==============================] - 2s 9ms/step - loss: 0.0925 - val_loss: 0.0915\n",
      "Epoch 22/50\n",
      "235/235 [==============================] - 2s 9ms/step - loss: 0.0918 - val_loss: 0.0909\n",
      "Epoch 23/50\n",
      "235/235 [==============================] - 2s 9ms/step - loss: 0.0913 - val_loss: 0.0904\n",
      "Epoch 24/50\n",
      "235/235 [==============================] - 2s 9ms/step - loss: 0.0909 - val_loss: 0.0900\n",
      "Epoch 25/50\n",
      "235/235 [==============================] - 2s 9ms/step - loss: 0.0904 - val_loss: 0.0894\n",
      "Epoch 26/50\n",
      "235/235 [==============================] - 2s 10ms/step - loss: 0.0899 - val_loss: 0.0891\n",
      "Epoch 27/50\n",
      "235/235 [==============================] - 2s 10ms/step - loss: 0.0896 - val_loss: 0.0887\n",
      "Epoch 28/50\n",
      "235/235 [==============================] - 2s 9ms/step - loss: 0.0892 - val_loss: 0.0886\n",
      "Epoch 29/50\n",
      "235/235 [==============================] - 2s 10ms/step - loss: 0.0889 - val_loss: 0.0881\n",
      "Epoch 30/50\n",
      "235/235 [==============================] - 3s 11ms/step - loss: 0.0886 - val_loss: 0.0880\n",
      "Epoch 31/50\n",
      "235/235 [==============================] - 3s 11ms/step - loss: 0.0884 - val_loss: 0.0878\n",
      "Epoch 32/50\n",
      "235/235 [==============================] - 2s 10ms/step - loss: 0.0881 - val_loss: 0.0874\n",
      "Epoch 33/50\n",
      "235/235 [==============================] - 2s 9ms/step - loss: 0.0878 - val_loss: 0.0871\n",
      "Epoch 34/50\n",
      "235/235 [==============================] - 2s 9ms/step - loss: 0.0877 - val_loss: 0.0871\n",
      "Epoch 35/50\n",
      "235/235 [==============================] - 2s 10ms/step - loss: 0.0875 - val_loss: 0.0869\n",
      "Epoch 36/50\n",
      "235/235 [==============================] - 2s 10ms/step - loss: 0.0873 - val_loss: 0.0866\n",
      "Epoch 37/50\n",
      "235/235 [==============================] - 2s 9ms/step - loss: 0.0871 - val_loss: 0.0867\n",
      "Epoch 38/50\n",
      "235/235 [==============================] - 2s 9ms/step - loss: 0.0870 - val_loss: 0.0864\n",
      "Epoch 39/50\n",
      "235/235 [==============================] - 2s 11ms/step - loss: 0.0867 - val_loss: 0.0862\n",
      "Epoch 40/50\n",
      "235/235 [==============================] - 3s 11ms/step - loss: 0.0866 - val_loss: 0.0860\n",
      "Epoch 41/50\n",
      "235/235 [==============================] - 2s 10ms/step - loss: 0.0865 - val_loss: 0.0862\n",
      "Epoch 42/50\n",
      "235/235 [==============================] - 2s 9ms/step - loss: 0.0863 - val_loss: 0.0858\n",
      "Epoch 43/50\n",
      "235/235 [==============================] - 2s 9ms/step - loss: 0.0862 - val_loss: 0.0858\n",
      "Epoch 44/50\n",
      "235/235 [==============================] - 2s 8ms/step - loss: 0.0860 - val_loss: 0.0854\n",
      "Epoch 45/50\n",
      "235/235 [==============================] - 2s 8ms/step - loss: 0.0859 - val_loss: 0.0854\n",
      "Epoch 46/50\n",
      "235/235 [==============================] - 2s 8ms/step - loss: 0.0858 - val_loss: 0.0854\n",
      "Epoch 47/50\n",
      "235/235 [==============================] - 2s 8ms/step - loss: 0.0857 - val_loss: 0.0852\n",
      "Epoch 48/50\n",
      "235/235 [==============================] - 2s 8ms/step - loss: 0.0856 - val_loss: 0.0850\n",
      "Epoch 49/50\n",
      "235/235 [==============================] - 2s 8ms/step - loss: 0.0854 - val_loss: 0.0852\n",
      "Epoch 50/50\n",
      "235/235 [==============================] - 2s 8ms/step - loss: 0.0853 - val_loss: 0.0850\n"
     ]
    },
    {
     "data": {
      "text/plain": [
       "<tensorflow.python.keras.callbacks.History at 0x203bde32748>"
      ]
     },
     "execution_count": 10,
     "metadata": {},
     "output_type": "execute_result"
    }
   ],
   "source": [
    "model.fit(X_train, X_train, epochs=50, batch_size=256, shuffle=True, validation_data=(X_test, X_test))"
   ]
  },
  {
   "cell_type": "markdown",
   "id": "statewide-restoration",
   "metadata": {},
   "source": [
    "## Visualize the encoded/decoded images"
   ]
  },
  {
   "cell_type": "code",
   "execution_count": 11,
   "id": "handmade-roller",
   "metadata": {},
   "outputs": [],
   "source": [
    "encoded_images = encoder.predict(X_test)\n",
    "decoded_images = decoder.predict(encoded_images)"
   ]
  },
  {
   "cell_type": "code",
   "execution_count": 12,
   "id": "standing-official",
   "metadata": {},
   "outputs": [
    {
     "data": {
      "image/png": "[encoded data removed]",
      "text/plain": [
       "<Figure size 1440x288 with 20 Axes>"
      ]
     },
     "metadata": {},
     "output_type": "display_data"
    }
   ],
   "source": [
    "plt.figure(figsize=(20, 4))\n",
    "for i in range(10):\n",
    "    # Display original\n",
    "    plt.subplot(2, 10, i + 1)\n",
    "    plt.imshow(X_test[i].reshape(28, 28), cmap=plt.cm.binary)\n",
    "    plt.xticks([]); plt.yticks([])\n",
    "\n",
    "    # Display reconstruction\n",
    "    ax = plt.subplot(2, 10, i + 11)\n",
    "    plt.imshow(decoded_images[i].reshape(28, 28), cmap=plt.cm.binary)\n",
    "    plt.xticks([]); plt.yticks([])\n",
    "plt.show()"
   ]
  },
  {
   "cell_type": "markdown",
   "id": "conservative-adoption",
   "metadata": {},
   "source": [
    "# Convolutional autoencoder"
   ]
  },
  {
   "cell_type": "markdown",
   "id": "asian-dylan",
   "metadata": {},
   "source": [
    "## Import and preprocess dataset"
   ]
  },
  {
   "cell_type": "code",
   "execution_count": 19,
   "id": "accredited-disco",
   "metadata": {},
   "outputs": [],
   "source": [
    "data = keras.datasets.mnist\n",
    "(X_train, _), (X_test, _) = data.load_data()\n",
    "\n",
    "X_train = X_train.astype('float32') / 255.\n",
    "X_test = X_test.astype('float32') / 255.\n",
    "X_train = X_train.reshape((len(X_train), 28, 28, 1))\n",
    "X_test = X_test.reshape((len(X_test), 28, 28, 1))"
   ]
  },
  {
   "cell_type": "markdown",
   "id": "extended-layer",
   "metadata": {},
   "source": [
    "## Create model"
   ]
  },
  {
   "cell_type": "code",
   "execution_count": 23,
   "id": "outdoor-responsibility",
   "metadata": {},
   "outputs": [
    {
     "name": "stdout",
     "output_type": "stream",
     "text": [
      "Model: \"sequential_6\"\n",
      "_________________________________________________________________\n",
      "Layer (type)                 Output Shape              Param #   \n",
      "=================================================================\n",
      "conv2d_30 (Conv2D)           (None, 28, 28, 16)        160       \n",
      "_________________________________________________________________\n",
      "max_pooling2d_14 (MaxPooling (None, 14, 14, 16)        0         \n",
      "_________________________________________________________________\n",
      "conv2d_31 (Conv2D)           (None, 14, 14, 8)         1160      \n",
      "_________________________________________________________________\n",
      "max_pooling2d_15 (MaxPooling (None, 7, 7, 8)           0         \n",
      "_________________________________________________________________\n",
      "conv2d_32 (Conv2D)           (None, 7, 7, 8)           584       \n",
      "_________________________________________________________________\n",
      "up_sampling2d_12 (UpSampling (None, 14, 14, 8)         0         \n",
      "_________________________________________________________________\n",
      "conv2d_33 (Conv2D)           (None, 14, 14, 16)        1168      \n",
      "_________________________________________________________________\n",
      "up_sampling2d_13 (UpSampling (None, 28, 28, 16)        0         \n",
      "_________________________________________________________________\n",
      "conv2d_34 (Conv2D)           (None, 28, 28, 1)         145       \n",
      "=================================================================\n",
      "Total params: 3,217\n",
      "Trainable params: 3,217\n",
      "Non-trainable params: 0\n",
      "_________________________________________________________________\n"
     ]
    }
   ],
   "source": [
    "model = keras.Sequential()\n",
    "model.add(keras.Input(shape=(28, 28, 1)))\n",
    "model.add(keras.layers.Conv2D(16, (3, 3), activation='relu', padding='same'))\n",
    "model.add(keras.layers.MaxPooling2D((2, 2), padding='same'))\n",
    "model.add(keras.layers.Conv2D(8, (3, 3), activation='relu', padding='same'))\n",
    "model.add(keras.layers.MaxPooling2D((2, 2), padding='same'))\n",
    "\n",
    "model.add(keras.layers.Conv2D(8, (3, 3), activation='relu', padding='same'))\n",
    "model.add(keras.layers.UpSampling2D((2, 2)))\n",
    "model.add(keras.layers.Conv2D(16, (3, 3), activation='relu', padding='same'))\n",
    "model.add(keras.layers.UpSampling2D((2, 2)))\n",
    "model.add(keras.layers.Conv2D(1, (3, 3), activation='sigmoid', padding='same'))\n",
    "\n",
    "model.compile(optimizer='adam', loss='binary_crossentropy')\n",
    "model.summary()"
   ]
  },
  {
   "cell_type": "code",
   "execution_count": 24,
   "id": "distributed-electricity",
   "metadata": {},
   "outputs": [
    {
     "name": "stdout",
     "output_type": "stream",
     "text": [
      "Epoch 1/50\n",
      "235/235 [==============================] - 44s 188ms/step - loss: 0.2233 - val_loss: 0.1096\n",
      "Epoch 2/50\n",
      "235/235 [==============================] - 49s 207ms/step - loss: 0.1001 - val_loss: 0.0922\n",
      "Epoch 3/50\n",
      "235/235 [==============================] - 46s 196ms/step - loss: 0.0901 - val_loss: 0.0869\n",
      "Epoch 4/50\n",
      "235/235 [==============================] - 46s 195ms/step - loss: 0.0863 - val_loss: 0.0840\n",
      "Epoch 5/50\n",
      "235/235 [==============================] - 50s 211ms/step - loss: 0.0840 - val_loss: 0.0821\n",
      "Epoch 6/50\n",
      "235/235 [==============================] - 49s 209ms/step - loss: 0.0823 - val_loss: 0.0807\n",
      "Epoch 7/50\n",
      "235/235 [==============================] - 49s 208ms/step - loss: 0.0809 - val_loss: 0.0794\n",
      "Epoch 8/50\n",
      "235/235 [==============================] - 49s 209ms/step - loss: 0.0798 - val_loss: 0.0785\n",
      "Epoch 9/50\n",
      "235/235 [==============================] - 52s 220ms/step - loss: 0.0790 - val_loss: 0.0777\n",
      "Epoch 10/50\n",
      "235/235 [==============================] - 54s 228ms/step - loss: 0.0783 - val_loss: 0.0771\n",
      "Epoch 11/50\n",
      "235/235 [==============================] - 49s 209ms/step - loss: 0.0777 - val_loss: 0.0765\n",
      "Epoch 12/50\n",
      "235/235 [==============================] - 50s 212ms/step - loss: 0.0771 - val_loss: 0.0761\n",
      "Epoch 13/50\n",
      "235/235 [==============================] - 53s 224ms/step - loss: 0.0767 - val_loss: 0.0756\n",
      "Epoch 14/50\n",
      "235/235 [==============================] - 52s 222ms/step - loss: 0.0762 - val_loss: 0.0753\n",
      "Epoch 15/50\n",
      "235/235 [==============================] - 53s 225ms/step - loss: 0.0759 - val_loss: 0.0749\n",
      "Epoch 16/50\n",
      "235/235 [==============================] - 51s 219ms/step - loss: 0.0755 - val_loss: 0.0747\n",
      "Epoch 17/50\n",
      "235/235 [==============================] - 55s 233ms/step - loss: 0.0752 - val_loss: 0.0743\n",
      "Epoch 18/50\n",
      "235/235 [==============================] - 52s 221ms/step - loss: 0.0749 - val_loss: 0.0740\n",
      "Epoch 19/50\n",
      "235/235 [==============================] - 57s 244ms/step - loss: 0.0746 - val_loss: 0.0738\n",
      "Epoch 20/50\n",
      "235/235 [==============================] - 53s 227ms/step - loss: 0.0744 - val_loss: 0.0737\n",
      "Epoch 21/50\n",
      "235/235 [==============================] - 52s 221ms/step - loss: 0.0742 - val_loss: 0.0733\n",
      "Epoch 22/50\n",
      "235/235 [==============================] - 50s 212ms/step - loss: 0.0740 - val_loss: 0.0733\n",
      "Epoch 23/50\n",
      "235/235 [==============================] - 51s 217ms/step - loss: 0.0738 - val_loss: 0.0730\n",
      "Epoch 24/50\n",
      "235/235 [==============================] - 50s 215ms/step - loss: 0.0736 - val_loss: 0.0729\n",
      "Epoch 25/50\n",
      "235/235 [==============================] - 58s 245ms/step - loss: 0.0734 - val_loss: 0.0727\n",
      "Epoch 26/50\n",
      "235/235 [==============================] - 53s 226ms/step - loss: 0.0733 - val_loss: 0.0728\n",
      "Epoch 27/50\n",
      "235/235 [==============================] - 55s 233ms/step - loss: 0.0732 - val_loss: 0.0724\n",
      "Epoch 28/50\n",
      "235/235 [==============================] - 53s 227ms/step - loss: 0.0730 - val_loss: 0.0724\n",
      "Epoch 29/50\n",
      "235/235 [==============================] - 52s 219ms/step - loss: 0.0729 - val_loss: 0.0721\n",
      "Epoch 30/50\n",
      "235/235 [==============================] - 52s 219ms/step - loss: 0.0728 - val_loss: 0.0721\n",
      "Epoch 31/50\n",
      "235/235 [==============================] - 53s 225ms/step - loss: 0.0726 - val_loss: 0.0720\n",
      "Epoch 32/50\n",
      "235/235 [==============================] - 52s 222ms/step - loss: 0.0725 - val_loss: 0.0718\n",
      "Epoch 33/50\n",
      "235/235 [==============================] - 49s 209ms/step - loss: 0.0724 - val_loss: 0.0717\n",
      "Epoch 34/50\n",
      "235/235 [==============================] - 49s 210ms/step - loss: 0.0723 - val_loss: 0.0717\n",
      "Epoch 35/50\n",
      "235/235 [==============================] - 52s 220ms/step - loss: 0.0722 - val_loss: 0.0715\n",
      "Epoch 36/50\n",
      "235/235 [==============================] - 53s 224ms/step - loss: 0.0721 - val_loss: 0.0714\n",
      "Epoch 37/50\n",
      "235/235 [==============================] - 52s 219ms/step - loss: 0.0720 - val_loss: 0.0714\n",
      "Epoch 38/50\n",
      "235/235 [==============================] - 52s 222ms/step - loss: 0.0720 - val_loss: 0.0713\n",
      "Epoch 39/50\n",
      "235/235 [==============================] - 54s 232ms/step - loss: 0.0719 - val_loss: 0.0712\n",
      "Epoch 40/50\n",
      "235/235 [==============================] - 52s 222ms/step - loss: 0.0718 - val_loss: 0.0711\n",
      "Epoch 41/50\n",
      "235/235 [==============================] - 53s 225ms/step - loss: 0.0716 - val_loss: 0.0709\n",
      "Epoch 42/50\n",
      "235/235 [==============================] - 50s 213ms/step - loss: 0.0715 - val_loss: 0.0708\n",
      "Epoch 43/50\n",
      "235/235 [==============================] - 54s 231ms/step - loss: 0.0713 - val_loss: 0.0707\n",
      "Epoch 44/50\n",
      "235/235 [==============================] - 60s 254ms/step - loss: 0.0712 - val_loss: 0.0705\n",
      "Epoch 45/50\n",
      "235/235 [==============================] - 63s 266ms/step - loss: 0.0711 - val_loss: 0.0706\n",
      "Epoch 46/50\n",
      "235/235 [==============================] - 63s 266ms/step - loss: 0.0710 - val_loss: 0.0704\n",
      "Epoch 47/50\n",
      "235/235 [==============================] - 61s 261ms/step - loss: 0.0710 - val_loss: 0.0703\n",
      "Epoch 48/50\n",
      "235/235 [==============================] - 56s 238ms/step - loss: 0.0709 - val_loss: 0.0702\n",
      "Epoch 49/50\n",
      "235/235 [==============================] - 50s 215ms/step - loss: 0.0709 - val_loss: 0.0702\n",
      "Epoch 50/50\n",
      "235/235 [==============================] - 57s 243ms/step - loss: 0.0708 - val_loss: 0.0701\n"
     ]
    },
    {
     "data": {
      "text/plain": [
       "<tensorflow.python.keras.callbacks.History at 0x203bfc9f448>"
      ]
     },
     "execution_count": 24,
     "metadata": {},
     "output_type": "execute_result"
    }
   ],
   "source": [
    "model.fit(X_train, X_train, epochs=50, batch_size=256, shuffle=True, validation_data=(X_test, X_test))"
   ]
  },
  {
   "cell_type": "markdown",
   "id": "photographic-suffering",
   "metadata": {},
   "source": [
    "## Visualize the encoded/decoded images"
   ]
  },
  {
   "cell_type": "code",
   "execution_count": 26,
   "id": "useful-drunk",
   "metadata": {},
   "outputs": [
    {
     "data": {
      "image/png": "[encoded data removed]",
      "text/plain": [
       "<Figure size 1440x288 with 20 Axes>"
      ]
     },
     "metadata": {},
     "output_type": "display_data"
    }
   ],
   "source": [
    "decoded_images = model.predict(X_test)\n",
    "\n",
    "plt.figure(figsize=(20, 4))\n",
    "for i in range(10):\n",
    "    # Display original\n",
    "    plt.subplot(2, 10, i + 1)\n",
    "    plt.imshow(X_test[i].reshape(28, 28), cmap=plt.cm.binary)\n",
    "    plt.xticks([]); plt.yticks([])\n",
    "\n",
    "    # Display reconstruction\n",
    "    ax = plt.subplot(2, 10, i + 11)\n",
    "    plt.imshow(decoded_images[i].reshape(28, 28), cmap=plt.cm.binary)\n",
    "    plt.xticks([]); plt.yticks([])\n",
    "plt.show()"
   ]
  },
  {
   "cell_type": "markdown",
   "id": "above-consequence",
   "metadata": {},
   "source": [
    "# Custom dataset"
   ]
  },
  {
   "cell_type": "code",
   "execution_count": null,
   "id": "associate-lunch",
   "metadata": {},
   "outputs": [],
   "source": [
    "path = '../dataset/anime_faces'\n"
   ]
  }
 ],
 "metadata": {
  "kernelspec": {
   "display_name": "Python 3",
   "language": "python",
   "name": "python3"
  },
  "language_info": {
   "codemirror_mode": {
    "name": "ipython",
    "version": 3
   },
   "file_extension": ".py",
   "mimetype": "text/x-python",
   "name": "python",
   "nbconvert_exporter": "python",
   "pygments_lexer": "ipython3",
   "version": "3.7.5"
  }
 },
 "nbformat": 4,
 "nbformat_minor": 5
}
